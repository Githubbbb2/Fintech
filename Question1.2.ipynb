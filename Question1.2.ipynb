{
 "cells": [
  {
   "cell_type": "code",
   "execution_count": 1,
   "id": "8388bacb",
   "metadata": {},
   "outputs": [],
   "source": [
    "#Question 1.2\n",
    "import quandl as ql\n",
    "import numpy as np\n",
    "import pandas as pd\n",
    "import requests\n",
    "from datetime import datetime\n",
    "import matplotlib.pyplot as plt\n",
    "import statsmodels.formula.api as sm"
   ]
  },
  {
   "cell_type": "code",
   "execution_count": null,
   "id": "5a1b1486",
   "metadata": {},
   "outputs": [],
   "source": [
    "api_key = 'NMrrPr8sm_tAvv6Uof9M'\n",
    "apiurl = f'https://demo.quandl.com/api/v3/datasets/OPEC/ORB.csv?api_key={api_key}'\n",
    "ETH = requests.get(apiurl).json()['Data']['Data']\n",
    "Yt_1 = pd.DataFrame(ETH)[['time', 'open']].set_index('time')\n",
    "ToTimeStamp = ETH[0]['time']\n",
    "apiurl = f'https://min-api.cryptocompare.com/data/v2/histoday?fsym=ETH&tsym=USD&limit=2000&toTs={ToTimeStamp}&api_key={api_key}'\n",
    "ETH1 = requests.get(apiurl).json()['Data']['Data']\n",
    "Yt_2 = pd.DataFrame(ETH1)[['time', 'open']].set_index('time')\n",
    "ToTimeStamp = ETH1[0]['time']\n",
    "apiurl = f'https://min-api.cryptocompare.com/data/v2/histoday?fsym=ETH&tsym=USD&limit=2000&toTs={ToTimeStamp}&api_key={api_key}'\n",
    "ETH2 = requests.get(apiurl).json()['Data']['Data']\n",
    "Yt_3 = pd.DataFrame(ETH2)[['time', 'open']].set_index('time')\n",
    "Yt_data = pd.concat([Yt_3,Yt_2,Yt_1])\n",
    "Yt_data.index = pd.to_datetime(Yt_data.index, unit = 's')\n",
    "Yt_data = Yt_data[ Yt_data.index > '2010-07-17'] \n",
    "Yt_data.reset_index(inplace=True)\n",
    "Yt_data.rename(columns ={'time':'Date'}, inplace='True')\n",
    "Yt_data.dtypes\n",
    "ql.ApiConfig.api_key = \"NMrrPr8sm_tAvv6Uof9M\"\n",
    "Xt = pd.DataFrame(ql.get(\"MULTPL/SP500_REAL_PRICE_MONTH\"))\n",
    "Xt = Xt[ Xt.index > '2010-07-17'] \n",
    "Xt.reset_index(inplace=True)\n",
    "Xt.dtypes"
   ]
  },
  {
   "cell_type": "code",
   "execution_count": null,
   "id": "3fa02d32",
   "metadata": {},
   "outputs": [],
   "source": [
    "df = Xt.merge(Yt_data, how ='left', on='Date')\n",
    "df.rename(columns ={'Value':'Xt','open':'Yt'}, inplace='True')\n",
    "df"
   ]
  },
  {
   "cell_type": "code",
   "execution_count": null,
   "id": "0bf223cb",
   "metadata": {},
   "outputs": [],
   "source": [
    "plt.plot(df.Xt,df.Yt,'go')"
   ]
  },
  {
   "cell_type": "code",
   "execution_count": null,
   "id": "8c06420a",
   "metadata": {},
   "outputs": [],
   "source": [
    "beta = ((np.multiply(df.Yt, df.Xt)).mean()-np.mean(df.Xt)*np.mean(df.Yt))/((np.multiply(df.Xt,df.Xt)).mean()-np.mean(df.Xt)*np.mean(df.Xt))\n",
    "alpha =np.mean(df.Yt)-beta*np.mean(df.Xt)\n",
    "print(\"alpha =\",alpha, \"\\nbeta =\",beta)"
   ]
  },
  {
   "cell_type": "code",
   "execution_count": null,
   "id": "38001cb4",
   "metadata": {},
   "outputs": [],
   "source": [
    "type((np.multiply(df.Yt, df.Xt)))\n",
    "y_hat = alpha + np.multiply(beta,df.Xt)\n",
    "L = np.sum(np.multiply(df.Yt - y_hat,df.Yt - y_hat))\n",
    "L"
   ]
  },
  {
   "cell_type": "code",
   "execution_count": null,
   "id": "fb531500",
   "metadata": {},
   "outputs": [],
   "source": [
    "result = sm.ols('Yt~Xt',data=df).fit()\n",
    "print(result.summary())"
   ]
  },
  {
   "cell_type": "code",
   "execution_count": null,
   "id": "9215ff90",
   "metadata": {},
   "outputs": [],
   "source": [
    "def  cal_cost(a,b,x,y):\n",
    "        n = len(y)\n",
    "        pred = a + np.multiply(b,x)\n",
    "        cost = (1/2*n) * np.sum(np.square(pred-y))\n",
    "        return cost"
   ]
  },
  {
   "cell_type": "code",
   "execution_count": null,
   "id": "535a7474",
   "metadata": {},
   "outputs": [],
   "source": [
    "itr = 1000\n",
    "alpha = 2000\n",
    "n = len(df.Yt)\n",
    "\n",
    "loss_his = np.zeros((itr,1))\n",
    "alpha_his = np.zeros((itr,1))\n",
    "\n",
    "for i in range(itr):\n",
    "        pred = alpha + np.multiply(beta,df.Xt)\n",
    "        res= df.Yt-pred\n",
    "        res_sum = sum(res)\n",
    "        gradient = -(1/n)*0.1*res_sum\n",
    " \n",
    "        alpha = alpha - gradient\n",
    "    \n",
    "        loss_his[i] = cal_cost(alpha,beta,df.Xt,df.Yt)\n",
    "        alpha_his[i] = alpha\n",
    "    \n",
    "plt.plot(alpha_his,loss_his,'go')"
   ]
  }
 ],
 "metadata": {
  "kernelspec": {
   "display_name": "Python 3.9.7 ('base')",
   "language": "python",
   "name": "python397jvsc74a57bd086396bc5ec24bcd744ddb43362b466fae5f1bad5104ac36a160ddc9b7e47ebce"
  },
  "language_info": {
   "codemirror_mode": {
    "name": "ipython",
    "version": 3
   },
   "file_extension": ".py",
   "mimetype": "text/x-python",
   "name": "python",
   "nbconvert_exporter": "python",
   "pygments_lexer": "ipython3",
   "version": "3.9.7"
  }
 },
 "nbformat": 4,
 "nbformat_minor": 5
}
